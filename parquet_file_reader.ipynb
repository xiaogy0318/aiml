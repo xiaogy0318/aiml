{
 "cells": [
  {
   "cell_type": "markdown",
   "metadata": {
    "collapsed": true
   },
   "source": [
    "In this demo, you'll use pandas to read a parque file and show it\n",
    "Make sure to pip install pandas and pyarrow first\n",
    "Download a sample parquet file to local drive too\n",
    "More details at https://www.youtube.com/watch?v=XFO5jdGsMek \n",
    "Sample data from https://github.com/Teradata/kylo/blob/master/samples/sample-data/parquet/userdata1.parquet\n",
    "and https://anson.ucdavis.edu/~clarkf/"
   ]
  },
  {
   "cell_type": "code",
   "execution_count": 16,
   "metadata": {},
   "outputs": [
    {
     "name": "stdout",
     "output_type": "stream",
     "text": [
      "                 timeperiod  flow1  occupancy1  speed1  flow2  occupancy2  \\\n0       01/01/2016 00:00:05      0        0.00     0.0      0        0.00   \n1       01/01/2016 00:00:35      0        0.00     0.0      0        0.00   \n2       01/01/2016 00:01:06      0        0.00     0.0      0        0.00   \n3       01/01/2016 00:01:35      0        0.00     0.0      0        0.00   \n4       01/01/2016 00:02:05      0        0.00     0.0      0        0.00   \n...                     ...    ...         ...     ...    ...         ...   \n786400  10/12/2016 23:57:37      0        0.00     0.0      3        0.02   \n786401  10/12/2016 23:58:07      3        0.02    81.0      1        0.00   \n786402  10/12/2016 23:58:37      6        0.03   109.0      3        0.02   \n786403  10/12/2016 23:59:07      1        0.01    54.0      2        0.01   \n786404  10/12/2016 23:59:37      3        0.02    81.0      4        0.03   \n\n        speed2  flow3  occupancy3  speed3  ...  speed5  flow6  occupancy6  \\\n0          0.0      0        0.00     0.0  ...     NaN    NaN         NaN   \n1          0.0      0        0.00     0.0  ...     NaN    NaN         NaN   \n2          0.0      0        0.00     0.0  ...     NaN    NaN         NaN   \n3          0.0      0        0.00     0.0  ...     NaN    NaN         NaN   \n4          0.0      0        0.00     0.0  ...     NaN    NaN         NaN   \n...        ...    ...         ...     ...  ...     ...    ...         ...   \n786400    71.0      2        0.02    60.0  ...     NaN    NaN         NaN   \n786401    78.0      1        0.01    54.0  ...     NaN    NaN         NaN   \n786402    71.0      3        0.04    65.0  ...     NaN    NaN         NaN   \n786403    71.0      0        0.00     0.0  ...     NaN    NaN         NaN   \n786404    71.0      1        0.01    54.0  ...     NaN    NaN         NaN   \n\n        speed6  flow7  occupancy7  speed7  flow8  occupancy8  speed8  \n0          NaN    NaN         NaN     NaN    NaN         NaN     NaN  \n1          NaN    NaN         NaN     NaN    NaN         NaN     NaN  \n2          NaN    NaN         NaN     NaN    NaN         NaN     NaN  \n3          NaN    NaN         NaN     NaN    NaN         NaN     NaN  \n4          NaN    NaN         NaN     NaN    NaN         NaN     NaN  \n...        ...    ...         ...     ...    ...         ...     ...  \n786400     NaN    NaN         NaN     NaN    NaN         NaN     NaN  \n786401     NaN    NaN         NaN     NaN    NaN         NaN     NaN  \n786402     NaN    NaN         NaN     NaN    NaN         NaN     NaN  \n786403     NaN    NaN         NaN     NaN    NaN         NaN     NaN  \n786404     NaN    NaN         NaN     NaN    NaN         NaN     NaN  \n\n[786405 rows x 25 columns]\n"
     ]
    }
   ],
   "source": [
    "import pandas as pd\n",
    "import pyarrow.parquet as pq\n",
    "#parquet_file = r'/Users/guoyuan_xiao/Downloads/userdata1.parquet'\n",
    "parquet_file = r'/Users/guoyuan_xiao/Downloads/pems_sorted/station=402264'\n",
    "df = pd.read_parquet(parquet_file, engine='auto')\n",
    "#table = pq.read_table(parquet_file)\n",
    "#table.to_pandas()\n",
    "print(df)"
   ]
  },
  {
   "cell_type": "code",
   "execution_count": null,
   "metadata": {},
   "outputs": [],
   "source": []
  }
 ],
 "metadata": {
  "kernelspec": {
   "display_name": "Python 2",
   "language": "python",
   "name": "python2"
  },
  "language_info": {
   "codemirror_mode": {
    "name": "ipython",
    "version": 2
   },
   "file_extension": ".py",
   "mimetype": "text/x-python",
   "name": "python",
   "nbconvert_exporter": "python",
   "pygments_lexer": "ipython2",
   "version": "2.7.6"
  }
 },
 "nbformat": 4,
 "nbformat_minor": 0
}
